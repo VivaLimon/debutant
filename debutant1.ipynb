{
 "cells": [
  {
   "cell_type": "code",
   "execution_count": 4,
   "id": "39dd16d1",
   "metadata": {},
   "outputs": [
    {
     "name": "stdin",
     "output_type": "stream",
     "text": [
      "Enter the first item: \n",
      " 1\n",
      "Any more items to add? Y/N \n",
      " y\n",
      "If you know, how many more items? \n",
      " 2\n",
      "Next item: \n",
      " a\n",
      "Next item: \n",
      " b\n",
      "Any more items to add? Y/N \n",
      " n\n"
     ]
    },
    {
     "name": "stdout",
     "output_type": "stream",
     "text": [
      "Thanks, all done! The final list is {0: '1', 1: 'a', 2: 'b'}\n"
     ]
    }
   ],
   "source": [
    "### let's create a new table and ask for user inputs to add new lines to it\n",
    "location = {}\n",
    "index = 1\n",
    "limit=0\n",
    "location[0]=input(\"Enter the first item: \\n\")\n",
    "### ask if there are any more items to add\n",
    "moreitemsq = input(\"Any more items to add? Y/N \\n\")\n",
    "\n",
    "\n",
    "\n",
    "\n",
    "while moreitemsq != \"n\":\n",
    "    limit= limit+int(input(\"If you know, how many more items? \\n\")) ##this sets upper bound. the limit+ in front makes sure that the index and limit and in sync with each other each loop. Prevent overwritting.\n",
    "    while index <= limit:\n",
    "        location[index]=input(\"Next item: \\n\")\n",
    "        index +=1\n",
    "    moreitemsq = input(\"Any more items to add? Y/N \\n\") ##this loops the original while. The indent is important. If you unindent this line, then it will display the input question twice...\n",
    "    \n",
    "\n",
    "print(f\"Thanks, all done! The final list is {location}\")\n",
    "\n",
    "\n",
    "\n"
   ]
  }
 ],
 "metadata": {
  "kernelspec": {
   "display_name": "Python 3 (ipykernel)",
   "language": "python",
   "name": "python3"
  },
  "language_info": {
   "codemirror_mode": {
    "name": "ipython",
    "version": 3
   },
   "file_extension": ".py",
   "mimetype": "text/x-python",
   "name": "python",
   "nbconvert_exporter": "python",
   "pygments_lexer": "ipython3",
   "version": "3.9.7"
  }
 },
 "nbformat": 4,
 "nbformat_minor": 5
}
